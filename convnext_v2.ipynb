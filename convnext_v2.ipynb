{
 "cells": [
  {
   "cell_type": "code",
   "execution_count": 2,
   "id": "7fe6812b-15eb-4389-83e4-d1d4ce518746",
   "metadata": {},
   "outputs": [
    {
     "name": "stdout",
     "output_type": "stream",
     "text": [
      "Collecting transformers\n",
      "  Obtaining dependency information for transformers from https://files.pythonhosted.org/packages/ae/95/283a1c004430bd2a9425d6937fc545dd49a4e4592feb76be0299a14e2378/transformers-4.32.0-py3-none-any.whl.metadata\n",
      "  Downloading transformers-4.32.0-py3-none-any.whl.metadata (118 kB)\n",
      "\u001b[2K     \u001b[38;2;114;156;31m━━━━━━━━━━━━━━━━━━━━━━━━━━━━━━━━━━━━━━━\u001b[0m \u001b[32m118.5/118.5 kB\u001b[0m \u001b[31m2.7 MB/s\u001b[0m eta \u001b[36m0:00:00\u001b[0m MB/s\u001b[0m eta \u001b[36m0:00:01\u001b[0m\n",
      "\u001b[?25hRequirement already satisfied: filelock in /home/minseong/.pyenv/versions/3.9.17/envs/HLOC/lib/python3.9/site-packages (from transformers) (3.12.2)\n",
      "Collecting huggingface-hub<1.0,>=0.15.1 (from transformers)\n",
      "  Obtaining dependency information for huggingface-hub<1.0,>=0.15.1 from https://files.pythonhosted.org/packages/7f/c4/adcbe9a696c135578cabcbdd7331332daad4d49b7c43688bc2d36b3a47d2/huggingface_hub-0.16.4-py3-none-any.whl.metadata\n",
      "  Using cached huggingface_hub-0.16.4-py3-none-any.whl.metadata (12 kB)\n",
      "Requirement already satisfied: numpy>=1.17 in /home/minseong/.pyenv/versions/3.9.17/envs/HLOC/lib/python3.9/site-packages (from transformers) (1.23.5)\n",
      "Requirement already satisfied: packaging>=20.0 in /home/minseong/.pyenv/versions/3.9.17/envs/HLOC/lib/python3.9/site-packages (from transformers) (23.1)\n",
      "Requirement already satisfied: pyyaml>=5.1 in /home/minseong/.pyenv/versions/3.9.17/envs/HLOC/lib/python3.9/site-packages (from transformers) (6.0.1)\n",
      "Collecting regex!=2019.12.17 (from transformers)\n",
      "  Obtaining dependency information for regex!=2019.12.17 from https://files.pythonhosted.org/packages/c0/f4/278e305e02245937579a7952b8a3205116b4d2480a3c03fa11e599b773d6/regex-2023.8.8-cp39-cp39-manylinux_2_17_x86_64.manylinux2014_x86_64.whl.metadata\n",
      "  Downloading regex-2023.8.8-cp39-cp39-manylinux_2_17_x86_64.manylinux2014_x86_64.whl.metadata (40 kB)\n",
      "\u001b[2K     \u001b[38;2;114;156;31m━━━━━━━━━━━━━━━━━━━━━━━━━━━━━━━━━━━━━━━━\u001b[0m \u001b[32m40.9/40.9 kB\u001b[0m \u001b[31m3.6 MB/s\u001b[0m eta \u001b[36m0:00:00\u001b[0m\n",
      "\u001b[?25hRequirement already satisfied: requests in /home/minseong/.pyenv/versions/3.9.17/envs/HLOC/lib/python3.9/site-packages (from transformers) (2.31.0)\n",
      "Collecting tokenizers!=0.11.3,<0.14,>=0.11.1 (from transformers)\n",
      "  Downloading tokenizers-0.13.3-cp39-cp39-manylinux_2_17_x86_64.manylinux2014_x86_64.whl (7.8 MB)\n",
      "\u001b[2K     \u001b[38;2;114;156;31m━━━━━━━━━━━━━━━━━━━━━━━━━━━━━━━━━━━━━━━━\u001b[0m \u001b[32m7.8/7.8 MB\u001b[0m \u001b[31m399.3 kB/s\u001b[0m eta \u001b[36m0:00:00\u001b[0mm eta \u001b[36m0:00:01\u001b[0m[36m0:00:01\u001b[0m\n",
      "\u001b[?25hCollecting safetensors>=0.3.1 (from transformers)\n",
      "  Obtaining dependency information for safetensors>=0.3.1 from https://files.pythonhosted.org/packages/4c/49/d41e7f524bff04e51ebe560ecedb28127d8f4e424f9d250c106c3b7fb637/safetensors-0.3.3-cp39-cp39-manylinux_2_17_x86_64.manylinux2014_x86_64.whl.metadata\n",
      "  Downloading safetensors-0.3.3-cp39-cp39-manylinux_2_17_x86_64.manylinux2014_x86_64.whl.metadata (4.7 kB)\n",
      "Requirement already satisfied: tqdm>=4.27 in /home/minseong/.pyenv/versions/3.9.17/envs/HLOC/lib/python3.9/site-packages (from transformers) (4.66.1)\n",
      "Collecting fsspec (from huggingface-hub<1.0,>=0.15.1->transformers)\n",
      "  Obtaining dependency information for fsspec from https://files.pythonhosted.org/packages/e3/bd/4c0a4619494188a9db5d77e2100ab7d544a42e76b2447869d8e124e981d8/fsspec-2023.6.0-py3-none-any.whl.metadata\n",
      "  Using cached fsspec-2023.6.0-py3-none-any.whl.metadata (6.7 kB)\n",
      "Requirement already satisfied: typing-extensions>=3.7.4.3 in /home/minseong/.pyenv/versions/3.9.17/envs/HLOC/lib/python3.9/site-packages (from huggingface-hub<1.0,>=0.15.1->transformers) (4.7.1)\n",
      "Requirement already satisfied: charset-normalizer<4,>=2 in /home/minseong/.pyenv/versions/3.9.17/envs/HLOC/lib/python3.9/site-packages (from requests->transformers) (3.2.0)\n",
      "Requirement already satisfied: idna<4,>=2.5 in /home/minseong/.pyenv/versions/3.9.17/envs/HLOC/lib/python3.9/site-packages (from requests->transformers) (3.4)\n",
      "Requirement already satisfied: urllib3<3,>=1.21.1 in /home/minseong/.pyenv/versions/3.9.17/envs/HLOC/lib/python3.9/site-packages (from requests->transformers) (2.0.4)\n",
      "Requirement already satisfied: certifi>=2017.4.17 in /home/minseong/.pyenv/versions/3.9.17/envs/HLOC/lib/python3.9/site-packages (from requests->transformers) (2023.7.22)\n",
      "Downloading transformers-4.32.0-py3-none-any.whl (7.5 MB)\n",
      "\u001b[2K   \u001b[38;2;114;156;31m━━━━━━━━━━━━━━━━━━━━━━━━━━━━━━━━━━━━━━━━\u001b[0m \u001b[32m7.5/7.5 MB\u001b[0m \u001b[31m413.0 kB/s\u001b[0m eta \u001b[36m0:00:00\u001b[0mm eta \u001b[36m0:00:01\u001b[0m[36m0:00:01\u001b[0m\n",
      "\u001b[?25hUsing cached huggingface_hub-0.16.4-py3-none-any.whl (268 kB)\n",
      "Downloading regex-2023.8.8-cp39-cp39-manylinux_2_17_x86_64.manylinux2014_x86_64.whl (771 kB)\n",
      "\u001b[2K   \u001b[38;2;114;156;31m━━━━━━━━━━━━━━━━━━━━━━━━━━━━━━━━━━━━━━━\u001b[0m \u001b[32m771.4/771.4 kB\u001b[0m \u001b[31m423.7 kB/s\u001b[0m eta \u001b[36m0:00:00\u001b[0mm eta \u001b[36m0:00:01\u001b[0m0:01\u001b[0m:01\u001b[0m\n",
      "\u001b[?25hDownloading safetensors-0.3.3-cp39-cp39-manylinux_2_17_x86_64.manylinux2014_x86_64.whl (1.3 MB)\n",
      "\u001b[2K   \u001b[38;2;114;156;31m━━━━━━━━━━━━━━━━━━━━━━━━━━━━━━━━━━━━━━━━\u001b[0m \u001b[32m1.3/1.3 MB\u001b[0m \u001b[31m442.4 kB/s\u001b[0m eta \u001b[36m0:00:00\u001b[0mm eta \u001b[36m0:00:01\u001b[0m[36m0:00:01\u001b[0m\n",
      "\u001b[?25hUsing cached fsspec-2023.6.0-py3-none-any.whl (163 kB)\n",
      "Installing collected packages: tokenizers, safetensors, regex, fsspec, huggingface-hub, transformers\n",
      "Successfully installed fsspec-2023.6.0 huggingface-hub-0.16.4 regex-2023.8.8 safetensors-0.3.3 tokenizers-0.13.3 transformers-4.32.0\n"
     ]
    }
   ],
   "source": [
    "!pip install transformers"
   ]
  },
  {
   "cell_type": "code",
   "execution_count": 6,
   "id": "8690c9e6-13f1-4b77-b4ca-c6c435448860",
   "metadata": {},
   "outputs": [
    {
     "data": {
      "text/plain": [
       "[1, 768, 7, 7]"
      ]
     },
     "execution_count": 6,
     "metadata": {},
     "output_type": "execute_result"
    }
   ],
   "source": [
    "from transformers import AutoImageProcessor, ConvNextV2Model\n",
    "import cv2\n",
    "import torch\n",
    "\n",
    "path = \"datasets/inloc/database/cutouts/DUC1/000/DUC_cutout_000_0_-30.jpg\"\n",
    "\n",
    "image = cv2.imread(path)\n",
    "image = cv2.cvtColor(image, cv2.COLOR_BGR2RGB)\n",
    "\n",
    "image_processor = AutoImageProcessor.from_pretrained(\"facebook/convnextv2-tiny-1k-224\")\n",
    "model = ConvNextV2Model.from_pretrained(\"facebook/convnextv2-tiny-1k-224\")\n",
    "\n",
    "inputs = image_processor(image, return_tensors=\"pt\")\n",
    "\n",
    "with torch.no_grad():\n",
    "    outputs = model(**inputs)\n",
    "\n",
    "last_hidden_states = outputs.last_hidden_state\n",
    "list(last_hidden_states.shape)"
   ]
  },
  {
   "cell_type": "code",
   "execution_count": 9,
   "id": "8bec523d-3cd7-43ea-8d03-5dd881c48211",
   "metadata": {},
   "outputs": [
    {
     "data": {
      "text/plain": [
       "tensor([[[[-0.5974, -1.4758,  4.1911,  ..., 10.5902,  1.4068, -1.5076],\n",
       "          [-2.4044, -2.2981, -1.5122,  ...,  0.5017, -1.6183, -1.6499],\n",
       "          [-1.9779, -0.1345,  0.2489,  ..., -1.8759,  0.0580,  0.6205],\n",
       "          ...,\n",
       "          [ 0.2065, -0.1674, -0.0328,  ..., -0.3696,  0.0489, -0.2944],\n",
       "          [ 0.2200, -0.5966, -0.1964,  ..., -0.1746, -0.0144,  0.4408],\n",
       "          [ 0.4691,  0.5440, -0.1147,  ...,  1.7390,  1.7878,  1.1697]],\n",
       "\n",
       "         [[-1.2548, -2.8842, -3.1622,  ..., -6.0327,  2.0716,  2.4316],\n",
       "          [-1.9504, -1.0809, -1.8625,  ..., -7.2937,  0.7995,  0.2985],\n",
       "          [-1.4658, -0.0650, -1.2719,  ..., -0.3945, -0.7447,  0.0692],\n",
       "          ...,\n",
       "          [-0.6041, -0.2653, -0.8335,  ..., -0.7965,  1.2391,  0.3876],\n",
       "          [-0.0622,  0.3827, -0.9229,  ..., -0.9954,  1.3900,  0.3442],\n",
       "          [-1.4914,  1.7024,  0.1559,  ...,  0.6330, -0.0536,  2.2087]],\n",
       "\n",
       "         [[-0.3262, -0.1578, -6.1226,  ..., -7.6342,  0.7399, -0.0351],\n",
       "          [-0.9289, -0.6080, -2.0596,  ...,  1.3952,  0.0511, -1.1899],\n",
       "          [ 1.6598,  0.4907,  0.7027,  ...,  0.9957,  0.1305, -1.0871],\n",
       "          ...,\n",
       "          [-0.5077, -0.6319, -0.7783,  ..., -0.2600,  1.5144, -0.6457],\n",
       "          [-1.8486, -1.1263, -1.3510,  ..., -0.6524, -0.9460, -0.4342],\n",
       "          [-1.0279, -0.7528, -1.5709,  ...,  0.0560, -1.2984, -0.0717]],\n",
       "\n",
       "         ...,\n",
       "\n",
       "         [[-3.2086, -4.8496, -5.3884,  ..., -2.1803, -0.2401, -3.6934],\n",
       "          [-1.3453, -1.2645, -2.4487,  ..., -3.1777, -1.7466, -2.5909],\n",
       "          [-3.3553, -0.3654, -1.9683,  ..., -2.2274, -0.8508, -1.4714],\n",
       "          ...,\n",
       "          [-2.2312, -0.4370,  0.1218,  ..., -0.4462, -4.0234, -0.2817],\n",
       "          [-0.2777, -0.9626, -0.1140,  ..., -1.0818, -0.6576, -0.0963],\n",
       "          [-0.2878, -0.6974, -0.8229,  ..., -0.2395, -1.0789, -0.2008]],\n",
       "\n",
       "         [[-1.3458, -2.7048, -3.3116,  ..., -0.2153, -1.5008, -2.6832],\n",
       "          [-0.9364, -2.2445,  0.8256,  ...,  7.5459, -1.3516, -3.1657],\n",
       "          [-1.3242, -0.0679, -0.7789,  ...,  0.9992, -0.3473, -0.9940],\n",
       "          ...,\n",
       "          [ 0.5703,  0.6516, -0.1899,  ...,  0.1461, -0.2061, -0.4424],\n",
       "          [ 0.3604,  0.8804,  0.2414,  ...,  1.0207, -0.0314,  0.4913],\n",
       "          [-0.6825,  0.5721, -0.5593,  ...,  0.1354, -1.2699, -0.5626]],\n",
       "\n",
       "         [[ 3.6640,  1.9082,  7.3656,  ...,  7.2394,  3.6274,  0.7286],\n",
       "          [-2.2602, -2.2330, -1.1823,  ...,  3.1537,  0.0506, -1.1767],\n",
       "          [-0.2025, -0.0983, -0.3307,  ...,  1.0034,  0.0247, -0.3206],\n",
       "          ...,\n",
       "          [-0.4389, -0.5007, -0.3714,  ..., -0.3578, -0.1183,  0.9346],\n",
       "          [-0.2983, -0.4303,  0.0729,  ..., -1.1761,  0.3984,  0.5051],\n",
       "          [-0.2804,  0.2966, -0.3767,  ..., -1.1925, -0.7311,  0.9127]]]])"
      ]
     },
     "execution_count": 9,
     "metadata": {},
     "output_type": "execute_result"
    }
   ],
   "source": [
    "last_hidden_states"
   ]
  },
  {
   "cell_type": "code",
   "execution_count": 10,
   "id": "3f899699-939e-428d-b3f1-902761dbe8f0",
   "metadata": {},
   "outputs": [],
   "source": [
    "import h5py"
   ]
  },
  {
   "cell_type": "code",
   "execution_count": 47,
   "id": "fd3999b0-e254-417b-9a00-a487ab1cb2f3",
   "metadata": {},
   "outputs": [
    {
     "name": "stdout",
     "output_type": "stream",
     "text": [
      "(128, 3389)\n"
     ]
    }
   ],
   "source": [
    "with h5py.File('/mnt/hdd4T/minseong/Visual-Localization-Pipeline/outputs/etri12-ex-retrieval/local_features.h5', 'r') as f:\n",
    "    data = f['mapping']['IMG_6857.JPG']['descriptors'].shape\n",
    "    print(data)"
   ]
  },
  {
   "cell_type": "code",
   "execution_count": 41,
   "id": "c061901f-75fd-451f-a20c-b1bd06bbb45a",
   "metadata": {},
   "outputs": [
    {
     "name": "stdout",
     "output_type": "stream",
     "text": [
      "<HDF5 dataset \"global_descriptor\": shape (2048,), type \"<f2\">\n"
     ]
    }
   ],
   "source": [
    "with h5py.File('/mnt/hdd4T/minseong/Visual-Localization-Pipeline/outputs/etri12-ex-retrieval/global_features.h5', 'r') as f:\n",
    "    data = f['mapping']['IMG_6857.JPG']['global_descriptor']\n",
    "    print(data)"
   ]
  },
  {
   "cell_type": "code",
   "execution_count": null,
   "id": "7055ec38-ce2a-416b-ab53-c05365760fcd",
   "metadata": {},
   "outputs": [],
   "source": []
  }
 ],
 "metadata": {
  "kernelspec": {
   "display_name": "HLOC",
   "language": "python",
   "name": "hloc"
  },
  "language_info": {
   "codemirror_mode": {
    "name": "ipython",
    "version": 3
   },
   "file_extension": ".py",
   "mimetype": "text/x-python",
   "name": "python",
   "nbconvert_exporter": "python",
   "pygments_lexer": "ipython3",
   "version": "3.9.17"
  }
 },
 "nbformat": 4,
 "nbformat_minor": 5
}
