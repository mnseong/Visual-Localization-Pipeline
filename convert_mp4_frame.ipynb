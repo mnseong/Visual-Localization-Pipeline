{
 "cells": [
  {
   "cell_type": "code",
   "execution_count": 1,
   "id": "1fbb8a2b-e160-4a64-830a-284a90ecb0be",
   "metadata": {},
   "outputs": [
    {
     "name": "stdout",
     "output_type": "stream",
     "text": [
      "4.8.0\n"
     ]
    }
   ],
   "source": [
    "import cv2\n",
    "import os\n",
    "\n",
    "print(cv2.__version__)"
   ]
  },
  {
   "cell_type": "code",
   "execution_count": 2,
   "id": "ce6c7e8f-44ca-4343-a575-a9d7d412795c",
   "metadata": {},
   "outputs": [],
   "source": [
    "filepath = '/home/minseong/Videos/ETRIvideo.mp4'\n",
    "video = cv2.VideoCapture(filepath)\n",
    "\n",
    "if not video.isOpened():\n",
    "    print(\"Could not Open :\", filepath)\n",
    "    exit(0)"
   ]
  },
  {
   "cell_type": "code",
   "execution_count": 3,
   "id": "ef97d7ad-d7ac-468d-b168-19173172cf4c",
   "metadata": {},
   "outputs": [],
   "source": [
    "length = int(video.get(cv2.CAP_PROP_FRAME_COUNT))\n",
    "width = int(video.get(cv2.CAP_PROP_FRAME_WIDTH))\n",
    "height = int(video.get(cv2.CAP_PROP_FRAME_HEIGHT))\n",
    "fps = video.get(cv2.CAP_PROP_FPS)"
   ]
  },
  {
   "cell_type": "code",
   "execution_count": 4,
   "id": "e2f74595-e4d2-4ca0-851f-c50d73121956",
   "metadata": {},
   "outputs": [],
   "source": [
    "try:\n",
    "    if not os.path.exists(filepath[:-4]):\n",
    "        os.makedirs(filepath[:-4])\n",
    "except OSError:\n",
    "    print ('Error: Creating directory. ' +  filepath[:-4])"
   ]
  },
  {
   "cell_type": "code",
   "execution_count": null,
   "id": "1a36e62d-cf3f-493b-95a7-c2cd18ab5540",
   "metadata": {},
   "outputs": [
    {
     "name": "stdout",
     "output_type": "stream",
     "text": [
      "Saved frame number : 30\n",
      "Saved frame number : 60\n",
      "Saved frame number : 90\n",
      "Saved frame number : 120\n",
      "Saved frame number : 150\n",
      "Saved frame number : 180\n",
      "Saved frame number : 210\n",
      "Saved frame number : 240\n",
      "Saved frame number : 270\n",
      "Saved frame number : 300\n",
      "Saved frame number : 330\n",
      "Saved frame number : 360\n",
      "Saved frame number : 390\n",
      "Saved frame number : 420\n",
      "Saved frame number : 450\n",
      "Saved frame number : 480\n",
      "Saved frame number : 510\n",
      "Saved frame number : 540\n",
      "Saved frame number : 570\n",
      "Saved frame number : 600\n",
      "Saved frame number : 630\n",
      "Saved frame number : 660\n",
      "Saved frame number : 690\n"
     ]
    }
   ],
   "source": [
    "count = 0\n",
    "\n",
    "while(video.isOpened()):\n",
    "    ret, image = video.read()\n",
    "    if(int(video.get(1)) % fps == 0): #앞서 불러온 fps 값을 사용하여 1초마다 추출\n",
    "        cv2.imwrite(filepath[:-4] + \"/frame%d.jpg\" % count, image)\n",
    "        print('Saved frame number :', str(int(video.get(1))))\n",
    "        count += 1\n",
    "        \n",
    "video.release()"
   ]
  },
  {
   "cell_type": "code",
   "execution_count": null,
   "id": "b6a574e1-b9be-4fe7-af24-c840a52f5998",
   "metadata": {},
   "outputs": [],
   "source": []
  }
 ],
 "metadata": {
  "kernelspec": {
   "display_name": "HLOC",
   "language": "python",
   "name": "hloc"
  },
  "language_info": {
   "codemirror_mode": {
    "name": "ipython",
    "version": 3
   },
   "file_extension": ".py",
   "mimetype": "text/x-python",
   "name": "python",
   "nbconvert_exporter": "python",
   "pygments_lexer": "ipython3",
   "version": "3.9.17"
  }
 },
 "nbformat": 4,
 "nbformat_minor": 5
}
